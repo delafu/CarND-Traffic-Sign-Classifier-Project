{
 "cells": [
  {
   "cell_type": "markdown",
   "metadata": {},
   "source": [
    "# Self-Driving Car Engineer Nanodegree\n",
    "\n",
    "## Deep Learning\n",
    "\n",
    "## Project: Build a Traffic Sign Recognition Classifier\n",
    "\n",
    "In this notebook, a template is provided for you to implement your functionality in stages, which is required to successfully complete this project. If additional code is required that cannot be included in the notebook, be sure that the Python code is successfully imported and included in your submission if necessary. \n",
    "\n",
    "> **Note**: Once you have completed all of the code implementations, you need to finalize your work by exporting the iPython Notebook as an HTML document. Before exporting the notebook to html, all of the code cells need to have been run so that reviewers can see the final implementation and output. You can then export the notebook by using the menu above and navigating to  \\n\",\n",
    "    \"**File -> Download as -> HTML (.html)**. Include the finished document along with this notebook as your submission. \n",
    "\n",
    "In addition to implementing code, there is a writeup to complete. The writeup should be completed in a separate file, which can be either a markdown file or a pdf document. There is a [write up template](https://github.com/udacity/CarND-Traffic-Sign-Classifier-Project/blob/master/writeup_template.md) that can be used to guide the writing process. Completing the code template and writeup template will cover all of the [rubric points](https://review.udacity.com/#!/rubrics/481/view) for this project.\n",
    "\n",
    "The [rubric](https://review.udacity.com/#!/rubrics/481/view) contains \"Stand Out Suggestions\" for enhancing the project beyond the minimum requirements. The stand out suggestions are optional. If you decide to pursue the \"stand out suggestions\", you can include the code in this Ipython notebook and also discuss the results in the writeup file.\n",
    "\n",
    "\n",
    ">**Note:** Code and Markdown cells can be executed using the **Shift + Enter** keyboard shortcut. In addition, Markdown cells can be edited by typically double-clicking the cell to enter edit mode."
   ]
  },
  {
   "cell_type": "markdown",
   "metadata": {},
   "source": [
    "---\n",
    "## Step 0: Load The Data"
   ]
  },
  {
   "cell_type": "code",
   "execution_count": 1,
   "metadata": {
    "collapsed": true
   },
   "outputs": [],
   "source": [
    "# Load pickled data\n",
    "import pickle\n",
    "from numpy import loadtxt\n",
    "\n",
    "# TODO: Fill this in based on where you saved the training and testing data\n",
    "\n",
    "training_file = '../traffic-signs-data/train.p'\n",
    "validation_file='../traffic-signs-data/valid.p'\n",
    "testing_file = '../traffic-signs-data/test.p'\n",
    "\n",
    "with open(training_file, mode='rb') as f:\n",
    "    train = pickle.load(f)\n",
    "with open(validation_file, mode='rb') as f:\n",
    "    valid = pickle.load(f)\n",
    "with open(testing_file, mode='rb') as f:\n",
    "    test = pickle.load(f)\n",
    "\n",
    "#key_value = loadtxt(\"signnames.csv\", delimiter=\",\")\n",
    "#mydict = { k:v for k,v in key_value }\n",
    "    \n",
    "X_train, y_train = train['features'], train['labels']\n",
    "X_valid, y_valid = valid['features'], valid['labels']\n",
    "X_test, y_test = test['features'], test['labels']"
   ]
  },
  {
   "cell_type": "markdown",
   "metadata": {},
   "source": [
    "---\n",
    "\n",
    "## Step 1: Dataset Summary & Exploration\n",
    "\n",
    "The pickled data is a dictionary with 4 key/value pairs:\n",
    "\n",
    "- `'features'` is a 4D array containing raw pixel data of the traffic sign images, (num examples, width, height, channels).\n",
    "- `'labels'` is a 1D array containing the label/class id of the traffic sign. The file `signnames.csv` contains id -> name mappings for each id.\n",
    "- `'sizes'` is a list containing tuples, (width, height) representing the original width and height the image.\n",
    "- `'coords'` is a list containing tuples, (x1, y1, x2, y2) representing coordinates of a bounding box around the sign in the image. **THESE COORDINATES ASSUME THE ORIGINAL IMAGE. THE PICKLED DATA CONTAINS RESIZED VERSIONS (32 by 32) OF THESE IMAGES**\n",
    "\n",
    "Complete the basic data summary below. Use python, numpy and/or pandas methods to calculate the data summary rather than hard coding the results. For example, the [pandas shape method](http://pandas.pydata.org/pandas-docs/stable/generated/pandas.DataFrame.shape.html) might be useful for calculating some of the summary results. "
   ]
  },
  {
   "cell_type": "markdown",
   "metadata": {},
   "source": [
    "### Provide a Basic Summary of the Data Set Using Python, Numpy and/or Pandas"
   ]
  },
  {
   "cell_type": "code",
   "execution_count": 2,
   "metadata": {},
   "outputs": [
    {
     "name": "stdout",
     "output_type": "stream",
     "text": [
      "Number of training examples = 34799\n",
      "Number of testing examples = 12630\n",
      "Image data shape = (32, 32, 3)\n",
      "Number of classes = 43\n"
     ]
    }
   ],
   "source": [
    "### Replace each question mark with the appropriate value. \n",
    "### Use python, pandas or numpy methods rather than hard coding the results\n",
    "\n",
    "# TODO: Number of training examples\n",
    "n_train = X_train.shape[0]\n",
    "\n",
    "# TODO: Number of validation examples\n",
    "n_validation = X_valid.shape[0] \n",
    "\n",
    "# TODO: Number of testing examples.\n",
    "n_test = X_test.shape[0]\n",
    "\n",
    "# TODO: What's the shape of an traffic sign image?\n",
    "image_shape = (X_train.shape[1],X_train.shape[2],X_train.shape[3])\n",
    "\n",
    "# TODO: How many unique classes/labels there are in the dataset.\n",
    "n_classes =len(set(y_train)) \n",
    "\n",
    "print(\"Number of training examples =\", n_train)\n",
    "print(\"Number of testing examples =\", n_test)\n",
    "print(\"Image data shape =\", image_shape)\n",
    "print(\"Number of classes =\", n_classes)"
   ]
  },
  {
   "cell_type": "code",
   "execution_count": null,
   "metadata": {
    "collapsed": true
   },
   "outputs": [],
   "source": [
    "\n",
    "        "
   ]
  },
  {
   "cell_type": "markdown",
   "metadata": {},
   "source": [
    "### Include an exploratory visualization of the dataset"
   ]
  },
  {
   "cell_type": "markdown",
   "metadata": {},
   "source": [
    "Visualize the German Traffic Signs Dataset using the pickled file(s). This is open ended, suggestions include: plotting traffic sign images, plotting the count of each sign, etc. \n",
    "\n",
    "The [Matplotlib](http://matplotlib.org/) [examples](http://matplotlib.org/examples/index.html) and [gallery](http://matplotlib.org/gallery.html) pages are a great resource for doing visualizations in Python.\n",
    "\n",
    "**NOTE:** It's recommended you start with something simple first. If you wish to do more, come back to it after you've completed the rest of the sections. It can be interesting to look at the distribution of classes in the training, validation and test set. Is the distribution the same? Are there more examples of some classes than others?"
   ]
  },
  {
   "cell_type": "code",
   "execution_count": 3,
   "metadata": {},
   "outputs": [
    {
     "data": {
      "image/png": "[encoded data removed]",
      "text/plain": [
       "<matplotlib.figure.Figure at 0x7fc988508ac8>"
      ]
     },
     "metadata": {},
     "output_type": "display_data"
    },
    {
     "data": {
      "image/png": "[encoded data removed]",
      "text/plain": [
       "<matplotlib.figure.Figure at 0x7fc984808f28>"
      ]
     },
     "metadata": {},
     "output_type": "display_data"
    },
    {
     "name": "stdout",
     "output_type": "stream",
     "text": [
      "Label: 25\n",
      "252\n"
     ]
    },
    {
     "data": {
      "image/png": "[encoded data removed]",
      "text/plain": [
       "<matplotlib.figure.Figure at 0x7fc9847a63c8>"
      ]
     },
     "metadata": {},
     "output_type": "display_data"
    }
   ],
   "source": [
    "### Data exploration visualization code goes here.\n",
    "### Feel free to use as many code cells as needed.\n",
    "import matplotlib.pyplot as plt\n",
    "from collections import Counter\n",
    "import numpy as np\n",
    "# Visualizations will be shown in the notebook.\n",
    "%matplotlib inline\n",
    "counter=Counter(y_train)\n",
    "labels, values = zip(*counter.items())\n",
    "\n",
    "indexes = np.arange(len(labels))\n",
    "width = 1\n",
    "\n",
    "plt.bar(indexes, values, width)\n",
    "plt.show()\n",
    "counter=Counter(y_valid)\n",
    "labels, values = zip(*counter.items())\n",
    "mediana=np.median(values)\n",
    "\n",
    "indexes = np.arange(len(labels))\n",
    "width = 1\n",
    "\n",
    "plt.bar(indexes, values, width)\n",
    "plt.show()\n",
    "\n",
    "index=34798\n",
    "print('Label: {}'.format(y_train[index])) \n",
    "plt.imshow(X_train[index])\n",
    "print(np.max(X_train[index]))\n"
   ]
  },
  {
   "cell_type": "code",
   "execution_count": 4,
   "metadata": {},
   "outputs": [
    {
     "data": {
      "image/png": "[encoded data removed]",
      "text/plain": [
       "<matplotlib.figure.Figure at 0x7fc9b812ac88>"
      ]
     },
     "metadata": {},
     "output_type": "display_data"
    }
   ],
   "source": [
    "for i in range(len(X_train)):\n",
    "    if y_train[i]==40:\n",
    "        plt.imshow(X_train[i])\n",
    "        break"
   ]
  },
  {
   "cell_type": "markdown",
   "metadata": {},
   "source": [
    "----\n",
    "\n",
    "## Step 2: Design and Test a Model Architecture\n",
    "\n",
    "Design and implement a deep learning model that learns to recognize traffic signs. Train and test your model on the [German Traffic Sign Dataset](http://benchmark.ini.rub.de/?section=gtsrb&subsection=dataset).\n",
    "\n",
    "The LeNet-5 implementation shown in the [classroom](https://classroom.udacity.com/nanodegrees/nd013/parts/fbf77062-5703-404e-b60c-95b78b2f3f9e/modules/6df7ae49-c61c-4bb2-a23e-6527e69209ec/lessons/601ae704-1035-4287-8b11-e2c2716217ad/concepts/d4aca031-508f-4e0b-b493-e7b706120f81) at the end of the CNN lesson is a solid starting point. You'll have to change the number of classes and possibly the preprocessing, but aside from that it's plug and play! \n",
    "\n",
    "With the LeNet-5 solution from the lecture, you should expect a validation set accuracy of about 0.89. To meet specifications, the validation set accuracy will need to be at least 0.93. It is possible to get an even higher accuracy, but 0.93 is the minimum for a successful project submission. \n",
    "\n",
    "There are various aspects to consider when thinking about this problem:\n",
    "\n",
    "- Neural network architecture (is the network over or underfitting?)\n",
    "- Play around preprocessing techniques (normalization, rgb to grayscale, etc)\n",
    "- Number of examples per label (some have more than others).\n",
    "- Generate fake data.\n",
    "\n",
    "Here is an example of a [published baseline model on this problem](http://yann.lecun.com/exdb/publis/pdf/sermanet-ijcnn-11.pdf). It's not required to be familiar with the approach used in the paper but, it's good practice to try to read papers like these."
   ]
  },
  {
   "cell_type": "markdown",
   "metadata": {},
   "source": [
    "### Pre-process the Data Set (normalization, grayscale, etc.)"
   ]
  },
  {
   "cell_type": "markdown",
   "metadata": {},
   "source": [
    "Minimally, the image data should be normalized so that the data has mean zero and equal variance. For image data, `(pixel - 128)/ 128` is a quick way to approximately normalize the data and can be used in this project. \n",
    "\n",
    "Other pre-processing steps are optional. You can try different techniques to see if it improves performance. \n",
    "\n",
    "Use the code cell (or multiple code cells, if necessary) to implement the first step of your project."
   ]
  },
  {
   "cell_type": "code",
   "execution_count": 5,
   "metadata": {},
   "outputs": [
    {
     "data": {
      "text/plain": [
       "<matplotlib.image.AxesImage at 0x7fc982096ef0>"
      ]
     },
     "execution_count": 5,
     "metadata": {},
     "output_type": "execute_result"
    },
    {
     "data": {
      "image/png": "[encoded data removed]",
      "text/plain": [
       "<matplotlib.figure.Figure at 0x7fc9846985f8>"
      ]
     },
     "metadata": {},
     "output_type": "display_data"
    }
   ],
   "source": [
    "import PIL\n",
    "from PIL import Image\n",
    "from PIL import ImageFilter\n",
    "from PIL import ImageEnhance\n",
    "\n",
    "def applyContrast(arr):\n",
    "    narr = np.asarray(arr,dtype=np.uint8)\n",
    "    im=Image.fromarray(narr,'RGB')\n",
    "    enh=ImageEnhance.Contrast(im)\n",
    "    im=enh.enhance(2)\n",
    "    return np.asarray(im)\n",
    "def applySharpener(arr, detail=True, sharpen=False):\n",
    "    narr = np.asarray(arr,dtype=np.uint8)\n",
    "    im=Image.fromarray(narr,'RGB')\n",
    "    if detail:\n",
    "        im = im.filter(ImageFilter.DETAIL)\n",
    "    if sharpen:\n",
    "        im = im.filter(ImageFilter.SHARPEN)\n",
    "    return np.asarray(im)\n",
    "plt.imshow(applyContrast(X_train[0]))"
   ]
  },
  {
   "cell_type": "code",
   "execution_count": 6,
   "metadata": {},
   "outputs": [
    {
     "name": "stderr",
     "output_type": "stream",
     "text": [
      "/home/carnd/anaconda3/envs/carnd-term1/lib/python3.5/site-packages/skimage/exposure/exposure.py:63: UserWarning: This might be a color image. The histogram will be computed on the flattened image. You can instead apply this function to each color channel.\n",
      "  warn(\"This might be a color image. The histogram will be \"\n"
     ]
    },
    {
     "name": "stdout",
     "output_type": "stream",
     "text": [
      "8520\n",
      "(32, 32, 1)\n"
     ]
    }
   ],
   "source": [
    "import tensorflow as tf\n",
    "from sklearn.utils import shuffle\n",
    "import skimage.io\n",
    "import skimage.transform\n",
    "from skimage import transform\n",
    "from skimage import exposure\n",
    "\n",
    "\n",
    "def build_augmentation_transform(zoom=(1.0, 1.0), rotation=0, shear=0, translation=(0, 0), flip=False): \n",
    "    if flip:\n",
    "        shear += 180\n",
    "        rotation += 180\n",
    "        # shear by 180 degrees is equivalent to rotation by 180 degrees + flip.\n",
    "        # So after that we rotate it another 180 degrees to get just the flip.\n",
    "\n",
    "    tform_augment = skimage.transform.AffineTransform(scale=(1/zoom[0], 1/zoom[1]), rotation=np.deg2rad(rotation), shear=np.deg2rad(shear), translation=translation)\n",
    "    return tform_augment\n",
    "\n",
    "def build_centering_transform(image_shape, target_shape=(32, 32)):\n",
    "    rows, cols = image_shape\n",
    "    trows, tcols = target_shape\n",
    "    shift_x = (cols - tcols) / 2.0\n",
    "    shift_y = (rows - trows) / 2.0\n",
    "    return skimage.transform.SimilarityTransform(translation=(shift_x, shift_y))\n",
    "def rgb2gray(rgb):\n",
    "    return np.dot(rgb[...,:3], [0.299, 0.587, 0.114])\n",
    "def createAugmentedImages(original_images, original_labels):\n",
    "    new_images=[]\n",
    "    new_labels=[]\n",
    "    aug=build_augmentation_transform(zoom=(1.2,1.2))\n",
    "    aug2=build_augmentation_transform(translation=(0,5))\n",
    "    aug3=build_augmentation_transform(zoom=(1.1,1.1))\n",
    "    aug4=build_augmentation_transform(rotation=(-5))\n",
    "    aug5=build_augmentation_transform(rotation=(5))\n",
    "    aug6=build_augmentation_transform(translation=(0,-5))\n",
    "    aug7=build_augmentation_transform(translation=(5,0))\n",
    "    aug8=build_augmentation_transform(translation=(-5,0))\n",
    "\n",
    "    for i in range(len(original_images)):\n",
    "        if (counter[original_labels[i]]<mediana):\n",
    "            img=transform.warp(original_images[i],aug)\n",
    "            new_images.append(rgb2gray(img).reshape(32,32,1))\n",
    "            new_labels.append(original_labels[i])\n",
    "            img=transform.warp(original_images[i],aug3)\n",
    "            new_images.append(rgb2gray(img).reshape(32,32,1))\n",
    "            new_labels.append(original_labels[i]) \n",
    "            #img=transform.warp(original_images[i],aug2)\n",
    "            #new_images.append(rgb2gray(img).reshape(32,32,1))\n",
    "            #new_labels.append(original_labels[i])\n",
    "            img=transform.warp(original_images[i],aug4)\n",
    "            new_images.append(rgb2gray(img).reshape(32,32,1))\n",
    "            new_labels.append(original_labels[i])            \n",
    "            img=transform.warp(original_images[i],aug5)\n",
    "            new_images.append(rgb2gray(img).reshape(32,32,1))\n",
    "            new_labels.append(original_labels[i])\n",
    "            #img=transform.warp(original_images[i],aug6)\n",
    "            #new_images.append(rgb2gray(img).reshape(32,32,1))\n",
    "            #new_labels.append(original_labels[i])\n",
    "            #img=transform.warp(original_images[i],aug7)\n",
    "            #new_images.append(rgb2gray(img).reshape(32,32,1))\n",
    "            #new_labels.append(original_labels[i])\n",
    "            #img=transform.warp(original_images[i],aug8)\n",
    "            #new_images.append(rgb2gray(img).reshape(32,32,1))\n",
    "            #new_labels.append(original_labels[i])\n",
    "\n",
    "#    for i in range(len(original_images)):\n",
    "#        img=transform.warp(original_images[i],aug2)\n",
    "#        new_images.append(rgb2gray(img).reshape(32,32,1))\n",
    "#        new_labels.append(original_labels[i])\n",
    "    dic={'features':new_images,'labels':new_labels}\n",
    "    pickle.dump(dic, open( \"augmented.p\", \"wb\" ) )\n",
    "X_new=[]\n",
    "for i in range(len(X_valid)):\n",
    "    img_sharp=applySharpener(X_valid[i])\n",
    "    img_eq = exposure.equalize_hist(img_sharp)\n",
    "    X_new.append(img_eq)\n",
    "X_valid=X_new\n",
    "X_new=[]\n",
    "for i in range(len(X_train)):\n",
    "    img_sharp=applySharpener(X_train[i])\n",
    "    img_eq = exposure.equalize_hist(img_sharp)\n",
    "    X_new.append(img_eq)\n",
    "X_train=X_new   \n",
    "    \n",
    "    \n",
    "createAugmentedImages(X_train,y_train)\n",
    "with open('augmented.p', mode='rb') as f:\n",
    "    aug = pickle.load(f)\n",
    "X_aug, y_aug = aug['features'], aug['labels']\n",
    "print(len(X_aug))\n",
    "print(X_aug[0].shape)\n",
    "#plt.imshow(X_aug[0].reshape(32,32))"
   ]
  },
  {
   "cell_type": "code",
   "execution_count": null,
   "metadata": {
    "collapsed": true
   },
   "outputs": [],
   "source": []
  },
  {
   "cell_type": "code",
   "execution_count": 7,
   "metadata": {
    "collapsed": true
   },
   "outputs": [],
   "source": [
    "### Preprocess the data here. It is required to normalize the data. Other preprocessing steps could include \n",
    "### converting to grayscale, etc.\n",
    "### Feel free to use as many code cells as needed.\n",
    "# Normalize the pixel values. I use 256 because it´s the max of the possible values of the pixels\n",
    "#func1=build_augmentation_transform(rotation=30,translation=(10,-5))\n",
    "X_train_grey=[]\n",
    "for i in range(len(X_train)):\n",
    "    X_train_grey.append(rgb2gray(X_train[i]).reshape(32,32,1))\n",
    "X_valid_grey=[]\n",
    "for i in range(len(X_valid)):\n",
    "    X_valid_grey.append(rgb2gray(X_valid[i]).reshape(32,32,1))\n",
    "#    print(i)\n",
    "#    img=transform.warp(X_train[0],func1)\n",
    "#    np.append(X_train,img)\n",
    "#    np.append(y_train,y_train[i])\n",
    "\n",
    "\n",
    "X_train=np.array(X_train_grey)\n",
    "X_valid=np.array(X_valid_grey)\n",
    "X_train=np.append(X_train,X_aug,axis=0)\n",
    "y_train=np.append(y_train,y_aug)\n",
    "#X_train=(X_train-128)/128\n",
    "#X_valid=(X_valid-128)/128\n"
   ]
  },
  {
   "cell_type": "code",
   "execution_count": 8,
   "metadata": {},
   "outputs": [
    {
     "name": "stdout",
     "output_type": "stream",
     "text": [
      "43319\n",
      "43319\n"
     ]
    }
   ],
   "source": [
    "print(len(X_train))\n",
    "print(len(y_train))\n"
   ]
  },
  {
   "cell_type": "markdown",
   "metadata": {},
   "source": [
    "### Model Architecture"
   ]
  },
  {
   "cell_type": "code",
   "execution_count": 9,
   "metadata": {
    "collapsed": true
   },
   "outputs": [],
   "source": [
    "\n",
    "from tensorflow.contrib.layers import flatten\n",
    "\n",
    "\n",
    "# LeNet network obtained of the classroom lesson with little changes\n",
    "\n",
    "def LeNet(x):    \n",
    "    # Arguments used for tf.truncated_normal, randomly defines variables for the weights and biases for each layer\n",
    "    mu = 0\n",
    "    sigma = 0.1\n",
    "    # SOLUTION: Layer 1: Convolutional. Input = 32x32x3. Output = 28x28x6.\n",
    "    conv1_W = tf.Variable(tf.truncated_normal(shape=(5, 5, 1, 6), mean = mu, stddev = sigma))\n",
    "    conv1_b = tf.Variable(tf.zeros(6))\n",
    "    conv1   = tf.nn.conv2d(x, conv1_W, strides=[1, 1, 1, 1], padding='VALID') + conv1_b\n",
    "\n",
    "    # SOLUTION: Activation.\n",
    "    conv1_ = tf.nn.relu(conv1)\n",
    "\n",
    "    # SOLUTION: Pooling. Input = 28x28x6. Output = 14x14x6.\n",
    "    conv1 = tf.nn.max_pool(conv1_, ksize=[1, 2, 2, 1], strides=[1, 2, 2, 1], padding='VALID')\n",
    "\n",
    "    # SOLUTION: Layer 2: Convolutional. Output = 10x10x16.\n",
    "    conv2_W = tf.Variable(tf.truncated_normal(shape=(5, 5, 6, 16), mean = mu, stddev = sigma))\n",
    "    conv2_b = tf.Variable(tf.zeros(16))\n",
    "    conv2   = tf.nn.conv2d(conv1, conv2_W, strides=[1, 1, 1, 1], padding='VALID') + conv2_b\n",
    "    \n",
    "    # SOLUTION: Activation.\n",
    "    conv2 = tf.nn.relu(conv2)\n",
    "\n",
    "    # SOLUTION: Pooling. Input = 10x10x16. Output = 5x5x16.\n",
    "    conv2 = tf.nn.max_pool(conv2, ksize=[1, 2, 2, 1], strides=[1, 2, 2, 1], padding='VALID')\n",
    "\n",
    "    # SOLUTION: Flatten. Input = 5x5x16. Output = 400.\n",
    "    fc0   = flatten(conv2)\n",
    "    \n",
    "    # SOLUTION: Layer 3: Fully Connected. Input = 400. Output = 120.\n",
    "    fc1_W = tf.Variable(tf.truncated_normal(shape=(400, 120), mean = mu, stddev = sigma))\n",
    "    fc1_b = tf.Variable(tf.zeros(120))\n",
    "    fc1   = tf.matmul(fc0, fc1_W) + fc1_b\n",
    "    \n",
    "    # SOLUTION: Activation.\n",
    "    fc1    = tf.nn.relu(fc1)\n",
    "\n",
    "    # SOLUTION: Layer 4: Fully Connected. Input = 120. Output = 84.\n",
    "    fc2_W  = tf.Variable(tf.truncated_normal(shape=(120, 84), mean = mu, stddev = sigma))\n",
    "    fc2_b  = tf.Variable(tf.zeros(84))\n",
    "    fc2    = tf.matmul(fc1, fc2_W) + fc2_b\n",
    "    \n",
    "    # SOLUTION: Activation.\n",
    "    fc2    = tf.nn.relu(fc2)\n",
    "\n",
    "    # SOLUTION: Layer 5: Fully Connected. Input = 84. Output = 43.\n",
    "    fc3_W  = tf.Variable(tf.truncated_normal(shape=(84, 43), mean = mu, stddev = sigma))\n",
    "    fc3_b  = tf.Variable(tf.zeros(n_classes))\n",
    "    logits = tf.matmul(fc2, fc3_W) + fc3_b\n",
    "    \n",
    "    return logits,conv1_"
   ]
  },
  {
   "cell_type": "code",
   "execution_count": 10,
   "metadata": {
    "collapsed": true
   },
   "outputs": [],
   "source": [
    "### Define your architecture here.\n",
    "### Feel free to use as many code cells as needed.\n",
    "x = tf.placeholder(tf.float32, (None, 32, 32, 1))\n",
    "y = tf.placeholder(tf.int32, (None))\n",
    "one_hot_y = tf.one_hot(y, n_classes)\n",
    "logits,conv1=LeNet(x)"
   ]
  },
  {
   "cell_type": "markdown",
   "metadata": {},
   "source": [
    "### Hyperparameters"
   ]
  },
  {
   "cell_type": "code",
   "execution_count": 11,
   "metadata": {
    "collapsed": true
   },
   "outputs": [],
   "source": [
    "batch_size=32\n",
    "epochs=100\n",
    "lr=0.001"
   ]
  },
  {
   "cell_type": "markdown",
   "metadata": {},
   "source": [
    "### Train, Validate and Test the Model"
   ]
  },
  {
   "cell_type": "markdown",
   "metadata": {},
   "source": [
    "A validation set can be used to assess how well the model is performing. A low accuracy on the training and validation\n",
    "sets imply underfitting. A high accuracy on the training set but low accuracy on the validation set implies overfitting."
   ]
  },
  {
   "cell_type": "code",
   "execution_count": 12,
   "metadata": {
    "collapsed": true
   },
   "outputs": [],
   "source": [
    "cross_entropy = tf.nn.softmax_cross_entropy_with_logits(labels=one_hot_y, logits=logits)\n",
    "loss_operation = tf.reduce_mean(cross_entropy)\n",
    "optimizer = tf.train.AdamOptimizer(learning_rate = lr)\n",
    "training_operation = optimizer.minimize(loss_operation)\n",
    "\n",
    "correct_prediction = tf.equal(tf.argmax(logits, 1), tf.argmax(one_hot_y, 1))\n",
    "accuracy_operation = tf.reduce_mean(tf.cast(correct_prediction, tf.float32))\n",
    "saver = tf.train.Saver()\n",
    "\n",
    "def evaluate(X_data, y_data):\n",
    "    num_examples = len(X_data)\n",
    "    total_accuracy = 0\n",
    "    sess = tf.get_default_session()\n",
    "    for offset in range(0, num_examples, batch_size):\n",
    "        batch_x, batch_y = X_data[offset:offset+batch_size], y_data[offset:offset+batch_size]\n",
    "        accuracy = sess.run(accuracy_operation, feed_dict={x: batch_x, y: batch_y})\n",
    "        total_accuracy += (accuracy * len(batch_x))\n",
    "    return total_accuracy / num_examples\n",
    "def detailed(X_data, y_data,dictio):\n",
    "    num_examples = len(X_data)\n",
    "    sess = tf.get_default_session()\n",
    "    for offset in range(0, num_examples, batch_size):\n",
    "        batch_x, batch_y = X_data[offset:offset+batch_size], y_data[offset:offset+batch_size]\n",
    "        pred = sess.run(correct_prediction, feed_dict={x: batch_x, y: batch_y})\n",
    "        for i in range(len(pred)):\n",
    "            if pred[i]:\n",
    "                dictio[batch_y[i]]+=1\n",
    "    return dictio\n",
    "    \n"
   ]
  },
  {
   "cell_type": "code",
   "execution_count": null,
   "metadata": {
    "collapsed": true
   },
   "outputs": [],
   "source": [
    "def outputFeatureMap(image_input, tf_activation, activation_min=-1, activation_max=-1 ,plt_num=1):\n",
    "    # Here make sure to preprocess your image_input in a way your network expects\n",
    "    # with size, normalization, ect if needed\n",
    "    # image_input =\n",
    "    # Note: x should be the same name as your network's tensorflow data placeholder variable\n",
    "    # If you get an error tf_activation is not defined it may be having trouble accessing the variable from inside a function\n",
    "    activation = tf_activation.eval(session=sess,feed_dict={x : image_input})\n",
    "    featuremaps = activation.shape[3]\n",
    "    plt.figure(plt_num, figsize=(15,15))\n",
    "    for featuremap in range(featuremaps):\n",
    "        plt.subplot(6,8, featuremap+1) # sets the number of feature maps to show on each row and column\n",
    "        plt.title('FeatureMap ' + str(featuremap)) # displays the feature map number\n",
    "        if activation_min != -1 & activation_max != -1:\n",
    "            plt.imshow(activation[0,:,:, featuremap], interpolation=\"nearest\", vmin =activation_min, vmax=activation_max, cmap=\"gray\")\n",
    "        elif activation_max != -1:\n",
    "            plt.imshow(activation[0,:,:, featuremap], interpolation=\"nearest\", vmax=activation_max, cmap=\"gray\")\n",
    "        elif activation_min !=-1:\n",
    "            plt.imshow(activation[0,:,:, featuremap], interpolation=\"nearest\", vmin=activation_min, cmap=\"gray\")\n",
    "        else:\n",
    "            plt.imshow(activation[0,:,:, featuremap], interpolation=\"nearest\", cmap=\"gray\")"
   ]
  },
  {
   "cell_type": "code",
   "execution_count": null,
   "metadata": {},
   "outputs": [
    {
     "name": "stdout",
     "output_type": "stream",
     "text": [
      "Training...\n",
      "\n",
      "EPOCH 1 ...\n",
      "Validation Accuracy = 0.869\n",
      "EPOCH 2 ...\n",
      "Validation Accuracy = 0.902\n",
      "EPOCH 3 ...\n",
      "Validation Accuracy = 0.924\n",
      "EPOCH 4 ...\n",
      "Validation Accuracy = 0.940\n",
      "EPOCH 5 ...\n",
      "Validation Accuracy = 0.940\n",
      "EPOCH 6 ...\n",
      "Validation Accuracy = 0.938\n",
      "EPOCH 7 ...\n",
      "Validation Accuracy = 0.943\n",
      "EPOCH 8 ...\n",
      "Validation Accuracy = 0.931\n",
      "EPOCH 9 ...\n",
      "Validation Accuracy = 0.939\n",
      "EPOCH 10 ...\n",
      "Validation Accuracy = 0.936\n",
      "EPOCH 11 ...\n",
      "Validation Accuracy = 0.947\n",
      "EPOCH 12 ...\n",
      "Validation Accuracy = 0.941\n",
      "EPOCH 13 ...\n",
      "Validation Accuracy = 0.939\n",
      "EPOCH 14 ...\n",
      "Validation Accuracy = 0.939\n",
      "EPOCH 15 ...\n",
      "Validation Accuracy = 0.946\n",
      "EPOCH 16 ...\n",
      "Validation Accuracy = 0.945\n",
      "EPOCH 17 ...\n",
      "Validation Accuracy = 0.939\n",
      "EPOCH 18 ...\n",
      "Validation Accuracy = 0.940\n",
      "EPOCH 19 ...\n",
      "Validation Accuracy = 0.946\n",
      "EPOCH 20 ...\n",
      "Validation Accuracy = 0.926\n",
      "EPOCH 21 ...\n",
      "Validation Accuracy = 0.944\n",
      "EPOCH 22 ...\n",
      "Validation Accuracy = 0.932\n",
      "EPOCH 23 ...\n",
      "Validation Accuracy = 0.949\n",
      "EPOCH 24 ...\n",
      "Validation Accuracy = 0.951\n",
      "EPOCH 25 ...\n",
      "Validation Accuracy = 0.944\n",
      "EPOCH 26 ...\n",
      "Validation Accuracy = 0.951\n",
      "EPOCH 27 ...\n",
      "Validation Accuracy = 0.956\n",
      "EPOCH 28 ...\n",
      "Validation Accuracy = 0.953\n",
      "EPOCH 29 ...\n",
      "Validation Accuracy = 0.946\n",
      "EPOCH 30 ...\n",
      "Validation Accuracy = 0.943\n",
      "EPOCH 31 ...\n",
      "Validation Accuracy = 0.949\n",
      "EPOCH 32 ...\n",
      "Validation Accuracy = 0.951\n",
      "EPOCH 33 ...\n",
      "Validation Accuracy = 0.943\n",
      "EPOCH 34 ...\n",
      "Validation Accuracy = 0.950\n",
      "EPOCH 35 ...\n",
      "Validation Accuracy = 0.952\n",
      "EPOCH 36 ...\n",
      "Validation Accuracy = 0.953\n",
      "EPOCH 37 ...\n",
      "Validation Accuracy = 0.947\n",
      "EPOCH 38 ...\n",
      "Validation Accuracy = 0.948\n",
      "EPOCH 39 ...\n",
      "Validation Accuracy = 0.943\n",
      "EPOCH 40 ...\n",
      "Validation Accuracy = 0.942\n",
      "EPOCH 41 ...\n",
      "Validation Accuracy = 0.949\n",
      "EPOCH 42 ...\n",
      "Validation Accuracy = 0.932\n",
      "EPOCH 43 ...\n",
      "Validation Accuracy = 0.949\n",
      "EPOCH 44 ...\n",
      "Validation Accuracy = 0.943\n",
      "EPOCH 45 ...\n",
      "Validation Accuracy = 0.938\n",
      "EPOCH 46 ...\n",
      "Validation Accuracy = 0.954\n",
      "EPOCH 47 ...\n",
      "Validation Accuracy = 0.951\n",
      "EPOCH 48 ...\n",
      "Validation Accuracy = 0.956\n",
      "EPOCH 49 ...\n",
      "Validation Accuracy = 0.948\n",
      "EPOCH 50 ...\n",
      "Validation Accuracy = 0.952\n",
      "Class 0: 21.0/30   70.0%\n",
      "Class 1: 238.0/240   99.16666666666667%\n",
      "Class 2: 223.0/240   92.91666666666667%\n",
      "Class 3: 141.0/150   94.0%\n",
      "Class 4: 208.0/210   99.04761904761905%\n",
      "Class 5: 186.0/210   88.57142857142857%\n",
      "Class 6: 55.0/60   91.66666666666667%\n",
      "Class 7: 143.0/150   95.33333333333333%\n",
      "Class 8: 142.0/150   94.66666666666667%\n",
      "Class 9: 148.0/150   98.66666666666667%\n",
      "Class 10: 210.0/210   100.0%\n",
      "Class 11: 150.0/150   100.0%\n",
      "Class 12: 210.0/210   100.0%\n",
      "Class 13: 239.0/240   99.58333333333333%\n",
      "Class 14: 89.0/90   98.88888888888889%\n",
      "Class 15: 90.0/90   100.0%\n",
      "Class 16: 40.0/60   66.66666666666667%\n",
      "Class 17: 120.0/120   100.0%\n",
      "Class 18: 116.0/120   96.66666666666667%\n",
      "Class 19: 27.0/30   90.0%\n",
      "Class 20: 42.0/60   70.0%\n",
      "Class 21: 42.0/60   70.0%\n",
      "Class 22: 55.0/60   91.66666666666667%\n",
      "Class 23: 54.0/60   90.0%\n",
      "Class 24: 29.0/30   96.66666666666667%\n",
      "Class 25: 149.0/150   99.33333333333333%\n",
      "Class 26: 57.0/60   95.0%\n",
      "Class 27: 30.0/30   100.0%\n",
      "Class 28: 60.0/60   100.0%\n",
      "Class 29: 26.0/30   86.66666666666667%\n",
      "Class 30: 59.0/60   98.33333333333333%\n",
      "Class 31: 90.0/90   100.0%\n",
      "Class 32: 30.0/30   100.0%\n",
      "Class 33: 90.0/90   100.0%\n",
      "Class 34: 60.0/60   100.0%\n",
      "Class 35: 120.0/120   100.0%\n",
      "Class 36: 60.0/60   100.0%\n",
      "Class 37: 30.0/30   100.0%\n",
      "Class 38: 208.0/210   99.04761904761905%\n",
      "Class 39: 30.0/30   100.0%\n",
      "Class 40: 41.0/60   68.33333333333333%\n",
      "Class 41: 20.0/30   66.66666666666667%\n",
      "Class 42: 21.0/30   70.0%\n",
      "EPOCH 51 ...\n",
      "Validation Accuracy = 0.949\n",
      "EPOCH 52 ...\n",
      "Validation Accuracy = 0.953\n",
      "EPOCH 53 ...\n",
      "Validation Accuracy = 0.955\n",
      "EPOCH 54 ...\n",
      "Validation Accuracy = 0.954\n",
      "EPOCH 55 ...\n",
      "Validation Accuracy = 0.952\n",
      "EPOCH 56 ...\n",
      "Validation Accuracy = 0.951\n",
      "EPOCH 57 ...\n",
      "Validation Accuracy = 0.946\n",
      "EPOCH 58 ...\n",
      "Validation Accuracy = 0.948\n",
      "EPOCH 59 ...\n",
      "Validation Accuracy = 0.949\n",
      "EPOCH 60 ...\n",
      "Validation Accuracy = 0.950\n",
      "EPOCH 61 ...\n",
      "Validation Accuracy = 0.949\n",
      "EPOCH 62 ...\n",
      "Validation Accuracy = 0.938\n",
      "EPOCH 63 ...\n",
      "Validation Accuracy = 0.948\n",
      "EPOCH 64 ...\n",
      "Validation Accuracy = 0.961\n",
      "EPOCH 65 ...\n",
      "Validation Accuracy = 0.958\n",
      "EPOCH 66 ...\n",
      "Validation Accuracy = 0.946\n",
      "EPOCH 67 ...\n",
      "Validation Accuracy = 0.945\n",
      "EPOCH 68 ...\n",
      "Validation Accuracy = 0.944\n",
      "EPOCH 69 ...\n",
      "Validation Accuracy = 0.955\n",
      "EPOCH 70 ...\n",
      "Validation Accuracy = 0.951\n",
      "EPOCH 71 ...\n",
      "Validation Accuracy = 0.946\n",
      "EPOCH 72 ...\n",
      "Validation Accuracy = 0.958\n",
      "EPOCH 73 ...\n",
      "Validation Accuracy = 0.939\n",
      "EPOCH 74 ...\n",
      "Validation Accuracy = 0.948\n",
      "EPOCH 75 ...\n",
      "Validation Accuracy = 0.949\n",
      "EPOCH 76 ...\n",
      "Validation Accuracy = 0.947\n",
      "EPOCH 77 ...\n",
      "Validation Accuracy = 0.951\n",
      "EPOCH 78 ...\n",
      "Validation Accuracy = 0.952\n",
      "EPOCH 79 ...\n",
      "Validation Accuracy = 0.951\n",
      "EPOCH 80 ...\n",
      "Validation Accuracy = 0.955\n",
      "EPOCH 81 ...\n",
      "Validation Accuracy = 0.951\n",
      "EPOCH 82 ...\n",
      "Validation Accuracy = 0.948\n",
      "EPOCH 83 ...\n",
      "Validation Accuracy = 0.947\n",
      "EPOCH 84 ...\n",
      "Validation Accuracy = 0.941\n",
      "EPOCH 85 ...\n",
      "Validation Accuracy = 0.950\n",
      "EPOCH 86 ...\n",
      "Validation Accuracy = 0.956\n",
      "EPOCH 87 ...\n",
      "Validation Accuracy = 0.948\n"
     ]
    }
   ],
   "source": [
    "### Train your model here.\n",
    "### Calculate and report the accuracy on the training and validation set.\n",
    "### Once a final model architecture is selected, \n",
    "### the accuracy on the test set should be calculated and reported as well.\n",
    "### Feel free to use as many code cells as needed.\n",
    "\n",
    "with tf.Session() as sess:\n",
    "    sess.run(tf.global_variables_initializer())\n",
    "    num_examples = len(X_train)\n",
    "    \n",
    "    print(\"Training...\")\n",
    "    print()\n",
    "    for i in range(epochs):\n",
    "        X_train, y_train = shuffle(X_train, y_train)\n",
    "        for offset in range(0, num_examples, batch_size):\n",
    "            end = offset + batch_size\n",
    "            batch_x, batch_y = X_train[offset:end], y_train[offset:end]\n",
    "            sess.run(training_operation, feed_dict={x: batch_x, y: batch_y})\n",
    "            \n",
    "        validation_accuracy = evaluate(X_valid, y_valid)\n",
    "        dictio=np.zeros(n_classes)\n",
    "        print(\"EPOCH {} ...\".format(i+1))\n",
    "        print(\"Validation Accuracy = {:.3f}\".format(validation_accuracy))\n",
    "        if ((i+1) % 50) ==0:\n",
    "            detailed(X_valid, y_valid,dictio)\n",
    "            for j in range(len(dictio)):\n",
    "                print(('Class {}: {}/{}   {}%'.format(j, dictio[j],counter[j],100*dictio[j]/counter[j])))\n",
    "                #break        \n",
    "    saver.save(sess, './lenet')\n",
    "    print(\"Model saved\")\n"
   ]
  },
  {
   "cell_type": "code",
   "execution_count": null,
   "metadata": {},
   "outputs": [],
   "source": [
    "with tf.Session() as sess:\n",
    "    saver = tf.train.Saver()\n",
    "    saver.restore(sess, tf.train.latest_checkpoint('.'))\n",
    "    outputFeatureMap(X_train[2].reshape(1,32,32,1), conv1)"
   ]
  },
  {
   "cell_type": "markdown",
   "metadata": {},
   "source": [
    "---\n",
    "\n",
    "## Step 3: Test a Model on New Images\n",
    "\n",
    "To give yourself more insight into how your model is working, download at least five pictures of German traffic signs from the web and use your model to predict the traffic sign type.\n",
    "\n",
    "You may find `signnames.csv` useful as it contains mappings from the class id (integer) to the actual sign name."
   ]
  },
  {
   "cell_type": "markdown",
   "metadata": {},
   "source": [
    "### Load and Output the Images"
   ]
  },
  {
   "cell_type": "code",
   "execution_count": null,
   "metadata": {},
   "outputs": [],
   "source": [
    "# The images are in the test_images directory\n",
    "import os\n",
    "arr=os.listdir('test_images/')\n",
    "fig = plt.figure()\n",
    "for i in range(len(arr)):\n",
    "    a=fig.add_subplot(3,4,(i+1))\n",
    "    a.set_title(arr[i])\n",
    "    image = plt.imread('test_images/'+arr[i])\n",
    "    plt.imshow(image)\n",
    "plt.tight_layout()"
   ]
  },
  {
   "cell_type": "markdown",
   "metadata": {},
   "source": [
    "### Predict the Sign Type for Each Image"
   ]
  },
  {
   "cell_type": "code",
   "execution_count": null,
   "metadata": {},
   "outputs": [],
   "source": [
    "### Run the predictions here and use the model to output the prediction for each image.\n",
    "### Make sure to pre-process the images with the same pre-processing pipeline used earlier.\n",
    "### Feel free to use as many code cells as needed.\n",
    "# To preprocess the images I have to resize the images to 32x32, convert to gray scale and nomalize the values\n",
    "import PIL\n",
    "from PIL import Image\n",
    "\n",
    "# resize to 32x32 and conver to gray scale and show the result\n",
    "\n",
    "fig = plt.figure()\n",
    "imgs=[]\n",
    "for i in range(len(arr)):\n",
    "    a=fig.add_subplot(3,4,(i+1))\n",
    "    a.set_title(arr[i])\n",
    "    img = Image.open('test_images/'+arr[i])\n",
    "    img = img.resize((32, 32), PIL.Image.ANTIALIAS)\n",
    "    img =applySharpener(np.asarray(img))\n",
    "    img_eq = exposure.equalize_hist(np.asarray(img))\n",
    "\n",
    "    img=rgb2gray(img_eq)\n",
    "    imgs.append(img.reshape(32,32,1))\n",
    "    plt.imshow(img)\n",
    "plt.tight_layout()\n",
    "\n",
    "# normalize the images\n",
    "#X_test=(np.array(imgs)-128)/128\n",
    "X_test=np.array(imgs)\n",
    "# test the network\n",
    "\n",
    "\n",
    "    "
   ]
  },
  {
   "cell_type": "markdown",
   "metadata": {},
   "source": [
    "### Analyze Performance"
   ]
  },
  {
   "cell_type": "code",
   "execution_count": null,
   "metadata": {},
   "outputs": [],
   "source": [
    "### Calculate the accuracy for these 5 new images. \n",
    "### For example, if the model predicted 1 out of 5 signs correctly, it's 20% accurate on these new images.\n",
    "y_test=[9,12,12,11,17,9,13,14,7,14]\n",
    "with tf.Session() as sess:\n",
    "    saver = tf.train.Saver()\n",
    "    saver.restore(sess, tf.train.latest_checkpoint('.'))\n",
    "    test_accuracy = evaluate(X_test, y_test)\n",
    "    counter=Counter(y_test)\n",
    "    print(\"Test Accuracy = {:.3f}\".format(test_accuracy))\n",
    "    dictio=np.zeros(n_classes)\n",
    "    detailed(X_test, y_test,dictio)\n",
    "    for j in range(len(dictio)):\n",
    "        if (counter[j]>0):\n",
    "            print(('Class {}: {}/{}   {}%'.format(j, dictio[j],counter[j],100*dictio[j]/counter[j])))"
   ]
  },
  {
   "cell_type": "markdown",
   "metadata": {},
   "source": [
    "### Output Top 5 Softmax Probabilities For Each Image Found on the Web"
   ]
  },
  {
   "cell_type": "markdown",
   "metadata": {},
   "source": [
    "For each of the new images, print out the model's softmax probabilities to show the **certainty** of the model's predictions (limit the output to the top 5 probabilities for each image). [`tf.nn.top_k`](https://www.tensorflow.org/versions/r0.12/api_docs/python/nn.html#top_k) could prove helpful here. \n",
    "\n",
    "The example below demonstrates how tf.nn.top_k can be used to find the top k predictions for each image.\n",
    "\n",
    "`tf.nn.top_k` will return the values and indices (class ids) of the top k predictions. So if k=3, for each sign, it'll return the 3 largest probabilities (out of a possible 43) and the correspoding class ids.\n",
    "\n",
    "Take this numpy array as an example. The values in the array represent predictions. The array contains softmax probabilities for five candidate images with six possible classes. `tk.nn.top_k` is used to choose the three classes with the highest probability:\n",
    "\n",
    "```\n",
    "# (5, 6) array\n",
    "a = np.array([[ 0.24879643,  0.07032244,  0.12641572,  0.34763842,  0.07893497,\n",
    "         0.12789202],\n",
    "       [ 0.28086119,  0.27569815,  0.08594638,  0.0178669 ,  0.18063401,\n",
    "         0.15899337],\n",
    "       [ 0.26076848,  0.23664738,  0.08020603,  0.07001922,  0.1134371 ,\n",
    "         0.23892179],\n",
    "       [ 0.11943333,  0.29198961,  0.02605103,  0.26234032,  0.1351348 ,\n",
    "         0.16505091],\n",
    "       [ 0.09561176,  0.34396535,  0.0643941 ,  0.16240774,  0.24206137,\n",
    "         0.09155967]])\n",
    "```\n",
    "\n",
    "Running it through `sess.run(tf.nn.top_k(tf.constant(a), k=3))` produces:\n",
    "\n",
    "```\n",
    "TopKV2(values=array([[ 0.34763842,  0.24879643,  0.12789202],\n",
    "       [ 0.28086119,  0.27569815,  0.18063401],\n",
    "       [ 0.26076848,  0.23892179,  0.23664738],\n",
    "       [ 0.29198961,  0.26234032,  0.16505091],\n",
    "       [ 0.34396535,  0.24206137,  0.16240774]]), indices=array([[3, 0, 5],\n",
    "       [0, 1, 4],\n",
    "       [0, 5, 1],\n",
    "       [1, 3, 5],\n",
    "       [1, 4, 3]], dtype=int32))\n",
    "```\n",
    "\n",
    "Looking just at the first row we get `[ 0.34763842,  0.24879643,  0.12789202]`, you can confirm these are the 3 largest probabilities in `a`. You'll also notice `[3, 0, 5]` are the corresponding indices."
   ]
  },
  {
   "cell_type": "code",
   "execution_count": null,
   "metadata": {},
   "outputs": [],
   "source": [
    "### Print out the top five softmax probabilities for the predictions on the German traffic sign images found on the web. \n",
    "### Feel free to use as many code cells as needed.\n",
    "\n",
    "with tf.Session() as sess:\n",
    "    saver = tf.train.Saver()\n",
    "    saver.restore(sess, tf.train.latest_checkpoint('.'))\n",
    "    result=sess.run(tf.nn.top_k(tf.nn.softmax(logits), k=3),feed_dict={x: X_test})\n",
    "    print(result)\n",
    "    width = 1\n",
    "    for i in range(len(arr)):\n",
    "        plt.title(arr[i])\n",
    "        plt.bar(result[1][i], result[0][i], width)\n",
    "        plt.show()    \n",
    "    \n",
    "#    saver = tf.train.Saver()\n",
    "#    saver.restore(sess, tf.train.latest_checkpoint('.'))\n",
    "\n"
   ]
  },
  {
   "cell_type": "markdown",
   "metadata": {},
   "source": [
    "### Project Writeup\n",
    "\n",
    "Once you have completed the code implementation, document your results in a project writeup using this [template](https://github.com/udacity/CarND-Traffic-Sign-Classifier-Project/blob/master/writeup_template.md) as a guide. The writeup can be in a markdown or pdf file. "
   ]
  },
  {
   "cell_type": "markdown",
   "metadata": {},
   "source": [
    "> **Note**: Once you have completed all of the code implementations and successfully answered each question above, you may finalize your work by exporting the iPython Notebook as an HTML document. You can do this by using the menu above and navigating to  \\n\",\n",
    "    \"**File -> Download as -> HTML (.html)**. Include the finished document along with this notebook as your submission."
   ]
  },
  {
   "cell_type": "markdown",
   "metadata": {},
   "source": [
    "---\n",
    "\n",
    "## Step 4 (Optional): Visualize the Neural Network's State with Test Images\n",
    "\n",
    " This Section is not required to complete but acts as an additional excersise for understaning the output of a neural network's weights. While neural networks can be a great learning device they are often referred to as a black box. We can understand what the weights of a neural network look like better by plotting their feature maps. After successfully training your neural network you can see what it's feature maps look like by plotting the output of the network's weight layers in response to a test stimuli image. From these plotted feature maps, it's possible to see what characteristics of an image the network finds interesting. For a sign, maybe the inner network feature maps react with high activation to the sign's boundary outline or to the contrast in the sign's painted symbol.\n",
    "\n",
    " Provided for you below is the function code that allows you to get the visualization output of any tensorflow weight layer you want. The inputs to the function should be a stimuli image, one used during training or a new one you provided, and then the tensorflow variable name that represents the layer's state during the training process, for instance if you wanted to see what the [LeNet lab's](https://classroom.udacity.com/nanodegrees/nd013/parts/fbf77062-5703-404e-b60c-95b78b2f3f9e/modules/6df7ae49-c61c-4bb2-a23e-6527e69209ec/lessons/601ae704-1035-4287-8b11-e2c2716217ad/concepts/d4aca031-508f-4e0b-b493-e7b706120f81) feature maps looked like for it's second convolutional layer you could enter conv2 as the tf_activation variable.\n",
    "\n",
    "For an example of what feature map outputs look like, check out NVIDIA's results in their paper [End-to-End Deep Learning for Self-Driving Cars](https://devblogs.nvidia.com/parallelforall/deep-learning-self-driving-cars/) in the section Visualization of internal CNN State. NVIDIA was able to show that their network's inner weights had high activations to road boundary lines by comparing feature maps from an image with a clear path to one without. Try experimenting with a similar test to show that your trained network's weights are looking for interesting features, whether it's looking at differences in feature maps from images with or without a sign, or even what feature maps look like in a trained network vs a completely untrained one on the same sign image.\n",
    "\n",
    "<figure>\n",
    " <img src=\"visualize_cnn.png\" width=\"380\" alt=\"Combined Image\" />\n",
    " <figcaption>\n",
    " <p></p> \n",
    " <p style=\"text-align: center;\"> Your output should look something like this (above)</p> \n",
    " </figcaption>\n",
    "</figure>\n",
    " <p></p> \n"
   ]
  },
  {
   "cell_type": "code",
   "execution_count": null,
   "metadata": {
    "collapsed": true
   },
   "outputs": [],
   "source": [
    "### Visualize your network's feature maps here.\n",
    "### Feel free to use as many code cells as needed.\n",
    "\n",
    "# image_input: the test image being fed into the network to produce the feature maps\n",
    "# tf_activation: should be a tf variable name used during your training procedure that represents the calculated state of a specific weight layer\n",
    "# activation_min/max: can be used to view the activation contrast in more detail, by default matplot sets min and max to the actual min and max values of the output\n",
    "# plt_num: used to plot out multiple different weight feature map sets on the same block, just extend the plt number for each new feature map entry\n",
    "\n",
    "def outputFeatureMap(image_input, tf_activation, activation_min=-1, activation_max=-1 ,plt_num=1):\n",
    "    # Here make sure to preprocess your image_input in a way your network expects\n",
    "    # with size, normalization, ect if needed\n",
    "    # image_input =\n",
    "    # Note: x should be the same name as your network's tensorflow data placeholder variable\n",
    "    # If you get an error tf_activation is not defined it may be having trouble accessing the variable from inside a function\n",
    "    activation = tf_activation.eval(session=sess,feed_dict={x : image_input})\n",
    "    featuremaps = activation.shape[3]\n",
    "    plt.figure(plt_num, figsize=(15,15))\n",
    "    for featuremap in range(featuremaps):\n",
    "        plt.subplot(6,8, featuremap+1) # sets the number of feature maps to show on each row and column\n",
    "        plt.title('FeatureMap ' + str(featuremap)) # displays the feature map number\n",
    "        if activation_min != -1 & activation_max != -1:\n",
    "            plt.imshow(activation[0,:,:, featuremap], interpolation=\"nearest\", vmin =activation_min, vmax=activation_max, cmap=\"gray\")\n",
    "        elif activation_max != -1:\n",
    "            plt.imshow(activation[0,:,:, featuremap], interpolation=\"nearest\", vmax=activation_max, cmap=\"gray\")\n",
    "        elif activation_min !=-1:\n",
    "            plt.imshow(activation[0,:,:, featuremap], interpolation=\"nearest\", vmin=activation_min, cmap=\"gray\")\n",
    "        else:\n",
    "            plt.imshow(activation[0,:,:, featuremap], interpolation=\"nearest\", cmap=\"gray\")"
   ]
  }
 ],
 "metadata": {
  "anaconda-cloud": {},
  "kernelspec": {
   "display_name": "Python 3",
   "language": "python",
   "name": "python3"
  },
  "language_info": {
   "codemirror_mode": {
    "name": "ipython",
    "version": 3
   },
   "file_extension": ".py",
   "mimetype": "text/x-python",
   "name": "python",
   "nbconvert_exporter": "python",
   "pygments_lexer": "ipython3",
   "version": "3.5.2"
  },
  "widgets": {
   "state": {},
   "version": "1.1.2"
  }
 },
 "nbformat": 4,
 "nbformat_minor": 1
}
